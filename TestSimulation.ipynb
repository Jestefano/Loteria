{
 "cells": [
  {
   "cell_type": "markdown",
   "metadata": {},
   "source": [
    "## Reading data and preprocessing"
   ]
  },
  {
   "cell_type": "code",
   "execution_count": 1,
   "metadata": {},
   "outputs": [],
   "source": [
    "# Libraries\n",
    "\n",
    "import numpy as np\n",
    "import pandas as pd\n",
    "import matplotlib.pyplot as plt\n",
    "import os\n",
    "from collections import defaultdict"
   ]
  },
  {
   "cell_type": "code",
   "execution_count": 3,
   "metadata": {},
   "outputs": [],
   "source": [
    "def preprocessing_lists(row):\n",
    "    row = row[1:-1] # Delete []\n",
    "    row = row.replace(' ','') # Delete spaces\n",
    "    row = row.split(',')\n",
    "    row = [int(x) for x in row]\n",
    "    return row"
   ]
  },
  {
   "cell_type": "code",
   "execution_count": 25,
   "metadata": {},
   "outputs": [],
   "source": [
    "def read_data(name):\n",
    "    simulation = pd.read_csv('data/{}.csv'.format(name))\n",
    "    simulation.winners = simulation.winners.apply(preprocessing_lists)\n",
    "    simulation.first_mid = simulation.first_mid.apply(preprocessing_lists)\n",
    "    return simulation"
   ]
  },
  {
   "cell_type": "code",
   "execution_count": 5,
   "metadata": {},
   "outputs": [],
   "source": [
    "simulation_100 = pd.read_csv('data/simulation_100.csv')\n",
    "simulation_100.winners = simulation_100.winners.apply(preprocessing_lists)\n",
    "simulation_100.first_mid = simulation_100.first_mid.apply(preprocessing_lists)"
   ]
  },
  {
   "cell_type": "markdown",
   "metadata": {},
   "source": [
    "## 1. Is it a fair game?\n",
    "### 1.1 Is it a fair game across games\n",
    "We understand as a fair game as a game where each player can win with the same probability if we play enough games"
   ]
  },
  {
   "cell_type": "code",
   "execution_count": 6,
   "metadata": {},
   "outputs": [
    {
     "data": {
      "text/plain": [
       "0        None\n",
       "1        None\n",
       "2        None\n",
       "3        None\n",
       "4        None\n",
       "         ... \n",
       "49995    None\n",
       "49996    None\n",
       "49997    None\n",
       "49998    None\n",
       "49999    None\n",
       "Name: winners, Length: 50000, dtype: object"
      ]
     },
     "execution_count": 6,
     "metadata": {},
     "output_type": "execute_result"
    }
   ],
   "source": [
    "# There are many configurations, we pick a lot of those configurations, and run many experiments, see who wins the most\n",
    "\n",
    "distribution_winners = defaultdict(int)\n",
    "def count_winners(row):\n",
    "    for item in row:\n",
    "        distribution_winners[item] += 1\n",
    "\n",
    "simulation_100.winners.apply(count_winners)"
   ]
  },
  {
   "cell_type": "code",
   "execution_count": 7,
   "metadata": {},
   "outputs": [
    {
     "data": {
      "text/plain": [
       "<matplotlib.lines.Line2D at 0x2704e42c610>"
      ]
     },
     "execution_count": 7,
     "metadata": {},
     "output_type": "execute_result"
    },
    {
     "data": {
      "image/png": "[encoded data removed]",
      "text/plain": [
       "<Figure size 1440x576 with 1 Axes>"
      ]
     },
     "metadata": {
      "needs_background": "light"
     },
     "output_type": "display_data"
    }
   ],
   "source": [
    "x = range(1,101)\n",
    "y = [distribution_winners[i] / 50_000 * 100 for i in range(100)]\n",
    "plt.figure(figsize=(20,8))\n",
    "plt.bar(x,y)\n",
    "plt.axhline(y = 1, color='r', linestyle='-')\n",
    "plt.axhline(y = np.mean(y), color='g', linestyle='-')"
   ]
  },
  {
   "cell_type": "code",
   "execution_count": null,
   "metadata": {},
   "outputs": [],
   "source": [
    "# Each one has more than 1% of probability of winning, but they seem fair, since variations are\n",
    "# almost random"
   ]
  },
  {
   "cell_type": "code",
   "execution_count": 8,
   "metadata": {},
   "outputs": [
    {
     "data": {
      "text/plain": [
       "<matplotlib.lines.Line2D at 0x2704e4a09d0>"
      ]
     },
     "execution_count": 8,
     "metadata": {},
     "output_type": "execute_result"
    },
    {
     "data": {
      "image/png": "[encoded data removed]",
      "text/plain": [
       "<Figure size 1440x576 with 1 Axes>"
      ]
     },
     "metadata": {
      "needs_background": "light"
     },
     "output_type": "display_data"
    }
   ],
   "source": [
    "x = range(1,101)\n",
    "y = [distribution_winners[i] / 50_000 * 100 for i in range(100)]\n",
    "y.sort()\n",
    "plt.figure(figsize=(20,8))\n",
    "plt.bar(x,y)\n",
    "plt.axhline(y = np.mean(y), color='g', linestyle='-')"
   ]
  },
  {
   "cell_type": "code",
   "execution_count": 10,
   "metadata": {},
   "outputs": [],
   "source": [
    "# For 2 players\n",
    "simulation_2 = pd.read_csv('data/simulation_2.csv')\n",
    "simulation_2.winners = simulation_2.winners.apply(preprocessing_lists)\n",
    "simulation_2.first_mid = simulation_2.first_mid.apply(preprocessing_lists)"
   ]
  },
  {
   "cell_type": "code",
   "execution_count": 12,
   "metadata": {},
   "outputs": [
    {
     "data": {
      "text/plain": [
       "0       None\n",
       "1       None\n",
       "2       None\n",
       "3       None\n",
       "4       None\n",
       "        ... \n",
       "9995    None\n",
       "9996    None\n",
       "9997    None\n",
       "9998    None\n",
       "9999    None\n",
       "Name: winners, Length: 10000, dtype: object"
      ]
     },
     "execution_count": 12,
     "metadata": {},
     "output_type": "execute_result"
    }
   ],
   "source": [
    "distribution_winners = defaultdict(int)\n",
    "simulation_2.winners.apply(count_winners)"
   ]
  },
  {
   "cell_type": "code",
   "execution_count": 18,
   "metadata": {},
   "outputs": [
    {
     "data": {
      "text/html": [
       "<div>\n",
       "<style scoped>\n",
       "    .dataframe tbody tr th:only-of-type {\n",
       "        vertical-align: middle;\n",
       "    }\n",
       "\n",
       "    .dataframe tbody tr th {\n",
       "        vertical-align: top;\n",
       "    }\n",
       "\n",
       "    .dataframe thead th {\n",
       "        text-align: right;\n",
       "    }\n",
       "</style>\n",
       "<table border=\"1\" class=\"dataframe\">\n",
       "  <thead>\n",
       "    <tr style=\"text-align: right;\">\n",
       "      <th></th>\n",
       "      <th>num_game</th>\n",
       "      <th>winners</th>\n",
       "      <th>num_cards_until_end</th>\n",
       "      <th>first_mid</th>\n",
       "    </tr>\n",
       "  </thead>\n",
       "  <tbody>\n",
       "    <tr>\n",
       "      <th>0</th>\n",
       "      <td>0</td>\n",
       "      <td>[0, 1]</td>\n",
       "      <td>54</td>\n",
       "      <td>[0]</td>\n",
       "    </tr>\n",
       "    <tr>\n",
       "      <th>1</th>\n",
       "      <td>0</td>\n",
       "      <td>[1]</td>\n",
       "      <td>47</td>\n",
       "      <td>[0, 1]</td>\n",
       "    </tr>\n",
       "    <tr>\n",
       "      <th>2</th>\n",
       "      <td>0</td>\n",
       "      <td>[1]</td>\n",
       "      <td>50</td>\n",
       "      <td>[0]</td>\n",
       "    </tr>\n",
       "    <tr>\n",
       "      <th>3</th>\n",
       "      <td>0</td>\n",
       "      <td>[0]</td>\n",
       "      <td>51</td>\n",
       "      <td>[0]</td>\n",
       "    </tr>\n",
       "    <tr>\n",
       "      <th>4</th>\n",
       "      <td>0</td>\n",
       "      <td>[1]</td>\n",
       "      <td>49</td>\n",
       "      <td>[0]</td>\n",
       "    </tr>\n",
       "  </tbody>\n",
       "</table>\n",
       "</div>"
      ],
      "text/plain": [
       "   num_game winners  num_cards_until_end first_mid\n",
       "0         0  [0, 1]                   54       [0]\n",
       "1         0     [1]                   47    [0, 1]\n",
       "2         0     [1]                   50       [0]\n",
       "3         0     [0]                   51       [0]\n",
       "4         0     [1]                   49       [0]"
      ]
     },
     "execution_count": 18,
     "metadata": {},
     "output_type": "execute_result"
    }
   ],
   "source": [
    "simulation_2.head()"
   ]
  },
  {
   "cell_type": "code",
   "execution_count": 19,
   "metadata": {
    "scrolled": true
   },
   "outputs": [
    {
     "data": {
      "text/plain": [
       "<matplotlib.lines.Line2D at 0x2704f6049a0>"
      ]
     },
     "execution_count": 19,
     "metadata": {},
     "output_type": "execute_result"
    },
    {
     "data": {
      "image/png": "[encoded data removed]",
      "text/plain": [
       "<Figure size 1440x576 with 1 Axes>"
      ]
     },
     "metadata": {
      "needs_background": "light"
     },
     "output_type": "display_data"
    }
   ],
   "source": [
    "x = range(1,3)\n",
    "y = [distribution_winners[i] / 10_000 * 100 for i in range(2)]\n",
    "plt.figure(figsize=(20,8))\n",
    "plt.bar(x,y)\n",
    "plt.axhline(y = 50, color='r', linestyle='-')\n",
    "plt.axhline(y = np.mean(y), color='g', linestyle='-')"
   ]
  },
  {
   "cell_type": "markdown",
   "metadata": {},
   "source": [
    "## Expected number of cards withdrawn"
   ]
  },
  {
   "cell_type": "code",
   "execution_count": 29,
   "metadata": {},
   "outputs": [],
   "source": [
    "mean_ = []\n",
    "quant_95 = []\n",
    "quant_5 = []\n",
    "for i in range(2,11):\n",
    "    simulation = read_data('simulation_{}'.format(i))\n",
    "    mean_.append(simulation.num_cards_until_end.mean())\n",
    "    quant_95.append(simulation.num_cards_until_end.quantile(0.05))\n",
    "    quant_5.append(simulation.num_cards_until_end.quantile(0.95))"
   ]
  },
  {
   "cell_type": "code",
   "execution_count": 30,
   "metadata": {},
   "outputs": [
    {
     "data": {
      "text/html": [
       "<div>\n",
       "<style scoped>\n",
       "    .dataframe tbody tr th:only-of-type {\n",
       "        vertical-align: middle;\n",
       "    }\n",
       "\n",
       "    .dataframe tbody tr th {\n",
       "        vertical-align: top;\n",
       "    }\n",
       "\n",
       "    .dataframe thead th {\n",
       "        text-align: right;\n",
       "    }\n",
       "</style>\n",
       "<table border=\"1\" class=\"dataframe\">\n",
       "  <thead>\n",
       "    <tr style=\"text-align: right;\">\n",
       "      <th></th>\n",
       "      <th>num_cards</th>\n",
       "      <th>mean_</th>\n",
       "      <th>quant_95</th>\n",
       "      <th>quant_5</th>\n",
       "    </tr>\n",
       "  </thead>\n",
       "  <tbody>\n",
       "    <tr>\n",
       "      <th>0</th>\n",
       "      <td>2</td>\n",
       "      <td>50.4339</td>\n",
       "      <td>45.0</td>\n",
       "      <td>54.0</td>\n",
       "    </tr>\n",
       "    <tr>\n",
       "      <th>1</th>\n",
       "      <td>3</td>\n",
       "      <td>49.6448</td>\n",
       "      <td>44.0</td>\n",
       "      <td>53.0</td>\n",
       "    </tr>\n",
       "    <tr>\n",
       "      <th>2</th>\n",
       "      <td>4</td>\n",
       "      <td>49.0093</td>\n",
       "      <td>44.0</td>\n",
       "      <td>53.0</td>\n",
       "    </tr>\n",
       "    <tr>\n",
       "      <th>3</th>\n",
       "      <td>5</td>\n",
       "      <td>48.4507</td>\n",
       "      <td>43.0</td>\n",
       "      <td>52.0</td>\n",
       "    </tr>\n",
       "    <tr>\n",
       "      <th>4</th>\n",
       "      <td>6</td>\n",
       "      <td>48.0963</td>\n",
       "      <td>43.0</td>\n",
       "      <td>52.0</td>\n",
       "    </tr>\n",
       "    <tr>\n",
       "      <th>5</th>\n",
       "      <td>7</td>\n",
       "      <td>47.8006</td>\n",
       "      <td>42.0</td>\n",
       "      <td>52.0</td>\n",
       "    </tr>\n",
       "    <tr>\n",
       "      <th>6</th>\n",
       "      <td>8</td>\n",
       "      <td>47.4140</td>\n",
       "      <td>42.0</td>\n",
       "      <td>51.0</td>\n",
       "    </tr>\n",
       "    <tr>\n",
       "      <th>7</th>\n",
       "      <td>9</td>\n",
       "      <td>47.1461</td>\n",
       "      <td>42.0</td>\n",
       "      <td>51.0</td>\n",
       "    </tr>\n",
       "    <tr>\n",
       "      <th>8</th>\n",
       "      <td>10</td>\n",
       "      <td>46.9333</td>\n",
       "      <td>41.0</td>\n",
       "      <td>51.0</td>\n",
       "    </tr>\n",
       "  </tbody>\n",
       "</table>\n",
       "</div>"
      ],
      "text/plain": [
       "   num_cards    mean_  quant_95  quant_5\n",
       "0          2  50.4339      45.0     54.0\n",
       "1          3  49.6448      44.0     53.0\n",
       "2          4  49.0093      44.0     53.0\n",
       "3          5  48.4507      43.0     52.0\n",
       "4          6  48.0963      43.0     52.0\n",
       "5          7  47.8006      42.0     52.0\n",
       "6          8  47.4140      42.0     51.0\n",
       "7          9  47.1461      42.0     51.0\n",
       "8         10  46.9333      41.0     51.0"
      ]
     },
     "execution_count": 30,
     "metadata": {},
     "output_type": "execute_result"
    }
   ],
   "source": [
    "expected_cards = pd.DataFrame({'num_cards':np.arange(2,11),\n",
    "                              'mean_':mean_,'quant_95':quant_95,\n",
    "                              'quant_5':quant_5})\n",
    "expected_cards"
   ]
  },
  {
   "cell_type": "code",
   "execution_count": 52,
   "metadata": {},
   "outputs": [
    {
     "data": {
      "text/plain": [
       "<matplotlib.collections.PolyCollection at 0x2705181db50>"
      ]
     },
     "execution_count": 52,
     "metadata": {},
     "output_type": "execute_result"
    },
    {
     "data": {
      "image/png": "[encoded data removed]",
      "text/plain": [
       "<Figure size 432x288 with 1 Axes>"
      ]
     },
     "metadata": {
      "needs_background": "light"
     },
     "output_type": "display_data"
    }
   ],
   "source": [
    "fig,ax = plt.subplots()\n",
    "plt.plot(np.arange(2,11),expected_cards.quant_95,c='red')\n",
    "plt.plot(np.arange(2,11),expected_cards.mean_, c='black')\n",
    "plt.plot(np.arange(2,11),expected_cards.quant_5,c='red')\n",
    "plt.ylim(0,60)\n",
    "ax.fill_between(np.arange(2,11), expected_cards.quant_5, \n",
    "                expected_cards.quant_95, alpha=0.1, color = 'black')"
   ]
  },
  {
   "cell_type": "code",
   "execution_count": 53,
   "metadata": {},
   "outputs": [],
   "source": [
    "# Model: To reach 20 avg\n",
    "# Test it in 100"
   ]
  },
  {
   "cell_type": "code",
   "execution_count": 32,
   "metadata": {},
   "outputs": [
    {
     "name": "stdout",
     "output_type": "stream",
     "text": [
      "mean 41.91852\n",
      "quant95 37.0\n",
      "quant5 46.0\n"
     ]
    }
   ],
   "source": [
    "# With 100 I expect that someone will have \"enough luck\" to win quickly\n",
    "simulation = read_data('simulation_{}'.format(100))\n",
    "print('mean',simulation.num_cards_until_end.mean())\n",
    "print('quant95',simulation.num_cards_until_end.quantile(0.05))\n",
    "print('quant5',simulation.num_cards_until_end.quantile(0.95))"
   ]
  },
  {
   "cell_type": "code",
   "execution_count": 33,
   "metadata": {},
   "outputs": [],
   "source": [
    "# Add 1000, is it enough?"
   ]
  },
  {
   "cell_type": "markdown",
   "metadata": {},
   "source": [
    "## The amount of winners"
   ]
  },
  {
   "cell_type": "code",
   "execution_count": 56,
   "metadata": {
    "scrolled": true
   },
   "outputs": [
    {
     "data": {
      "text/plain": [
       "1    0.8363\n",
       "2    0.1637\n",
       "Name: winners, dtype: float64"
      ]
     },
     "metadata": {},
     "output_type": "display_data"
    },
    {
     "data": {
      "text/plain": [
       "1    0.8389\n",
       "2    0.1187\n",
       "3    0.0424\n",
       "Name: winners, dtype: float64"
      ]
     },
     "metadata": {},
     "output_type": "display_data"
    },
    {
     "data": {
      "text/plain": [
       "1    0.8384\n",
       "2    0.1300\n",
       "3    0.0218\n",
       "4    0.0098\n",
       "Name: winners, dtype: float64"
      ]
     },
     "metadata": {},
     "output_type": "display_data"
    },
    {
     "data": {
      "text/plain": [
       "1    0.8282\n",
       "2    0.1382\n",
       "3    0.0260\n",
       "4    0.0049\n",
       "5    0.0027\n",
       "Name: winners, dtype: float64"
      ]
     },
     "metadata": {},
     "output_type": "display_data"
    },
    {
     "data": {
      "text/plain": [
       "1    0.8275\n",
       "2    0.1346\n",
       "3    0.0284\n",
       "4    0.0072\n",
       "5    0.0014\n",
       "6    0.0009\n",
       "Name: winners, dtype: float64"
      ]
     },
     "metadata": {},
     "output_type": "display_data"
    },
    {
     "data": {
      "text/plain": [
       "1    0.8249\n",
       "2    0.1370\n",
       "3    0.0290\n",
       "4    0.0067\n",
       "5    0.0019\n",
       "6    0.0004\n",
       "7    0.0001\n",
       "Name: winners, dtype: float64"
      ]
     },
     "metadata": {},
     "output_type": "display_data"
    },
    {
     "data": {
      "text/plain": [
       "1    0.8302\n",
       "2    0.1332\n",
       "3    0.0301\n",
       "4    0.0052\n",
       "5    0.0013\n",
       "Name: winners, dtype: float64"
      ]
     },
     "metadata": {},
     "output_type": "display_data"
    },
    {
     "data": {
      "text/plain": [
       "1    0.8283\n",
       "2    0.1345\n",
       "3    0.0288\n",
       "4    0.0062\n",
       "5    0.0019\n",
       "6    0.0003\n",
       "Name: winners, dtype: float64"
      ]
     },
     "metadata": {},
     "output_type": "display_data"
    },
    {
     "data": {
      "text/plain": [
       "1    0.8197\n",
       "2    0.1409\n",
       "3    0.0300\n",
       "4    0.0067\n",
       "5    0.0019\n",
       "6    0.0006\n",
       "7    0.0002\n",
       "Name: winners, dtype: float64"
      ]
     },
     "metadata": {},
     "output_type": "display_data"
    }
   ],
   "source": [
    "for i in range(2,11):\n",
    "    simulation = read_data('simulation_{}'.format(i))\n",
    "    display(simulation.winners.apply(len).value_counts(normalize=True))"
   ]
  },
  {
   "cell_type": "markdown",
   "metadata": {},
   "source": [
    "- Event of having more than 1 winner has more than 15% chance in any game with players from 2 to 10\n",
    "- As we add more players, results seem to stabilize, maybe there is an underlying known distribution? Exponential?\n",
    "- Of course, the most likely seems to be the group of 2, with ~13%"
   ]
  },
  {
   "cell_type": "code",
   "execution_count": null,
   "metadata": {},
   "outputs": [],
   "source": []
  },
  {
   "cell_type": "code",
   "execution_count": null,
   "metadata": {},
   "outputs": [],
   "source": []
  },
  {
   "cell_type": "markdown",
   "metadata": {},
   "source": [
    "### Probability of winning per number of players\n",
    "### The first one to reach mid has more advantage?    \n",
    "### Can we compute it technically\n",
    "### Tendency: When will it reach 16? Linear regression"
   ]
  }
 ],
 "metadata": {
  "interpreter": {
   "hash": "995307592be1137a7dc7e557de3a63c2d613f93e869c531afd2d05b314977b63"
  },
  "kernelspec": {
   "display_name": "Python 3",
   "language": "python",
   "name": "python3"
  },
  "language_info": {
   "codemirror_mode": {
    "name": "ipython",
    "version": 3
   },
   "file_extension": ".py",
   "mimetype": "text/x-python",
   "name": "python",
   "nbconvert_exporter": "python",
   "pygments_lexer": "ipython3",
   "version": "3.8.8"
  }
 },
 "nbformat": 4,
 "nbformat_minor": 2
}
